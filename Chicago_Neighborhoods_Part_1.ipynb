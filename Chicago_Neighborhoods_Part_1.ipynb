{
 "cells": [
  {
   "cell_type": "markdown",
   "metadata": {},
   "source": [
    "## Introduction"
   ]
  },
  {
   "cell_type": "markdown",
   "metadata": {},
   "source": [
    "As a person who has got a job offer in the downtown area of Chicago, what would be the best neighborhoods to move in and what are their characteristics?"
   ]
  },
  {
   "cell_type": "markdown",
   "metadata": {},
   "source": [
    "## Data"
   ]
  },
  {
   "cell_type": "markdown",
   "metadata": {},
   "source": [
    "The main data comes from a Foursquare API for Chicago. This data contains neighborhoods and coordinates as well as venues such as restaurants or parks. Another dataset I might use with this one comes from the Community areas in Chicago Wikipedia article [1], which contains more information about the neighborhoods such as population and area (sq. ft). I think that area and population data would bring a more helpful analysis on neighborhoods such as how large are the communities and what does population density say about them. "
   ]
  },
  {
   "cell_type": "markdown",
   "metadata": {},
   "source": [
    "[1] https://en.wikipedia.org/wiki/Community_areas_in_Chicago"
   ]
  }
 ],
 "metadata": {
  "kernelspec": {
   "display_name": "Python 3",
   "language": "python",
   "name": "python3"
  },
  "language_info": {
   "codemirror_mode": {
    "name": "ipython",
    "version": 3
   },
   "file_extension": ".py",
   "mimetype": "text/x-python",
   "name": "python",
   "nbconvert_exporter": "python",
   "pygments_lexer": "ipython3",
   "version": "3.7.4"
  }
 },
 "nbformat": 4,
 "nbformat_minor": 2
}
